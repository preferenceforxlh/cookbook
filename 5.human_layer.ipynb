{
 "cells": [
  {
   "cell_type": "code",
   "execution_count": 1,
   "metadata": {},
   "outputs": [],
   "source": [
    "import os\n",
    "os.environ[\"http_proxy\"] = \"http://127.0.0.1:7890\"\n",
    "os.environ[\"https_proxy\"] = \"http://127.0.0.1:7890\"\n",
    "os.environ[\"HUMANLAYER_API_KEY\"]=\"hl-a-4fnbHdLc0QNpRTEbPZ6Mu4Gjw2D2uFILDckbyNI-HDQ\"\n",
    "os.environ[\"QWEN_API_KEY\"] = \"sk-4c461e0b5a3f4de1a2ad3ce436f2b0cc\""
   ]
  },
  {
   "cell_type": "code",
   "execution_count": 2,
   "metadata": {},
   "outputs": [
    {
     "data": {
      "text/plain": [
       "'sk-4c461e0b5a3f4de1a2ad3ce436f2b0cc'"
      ]
     },
     "execution_count": 2,
     "metadata": {},
     "output_type": "execute_result"
    }
   ],
   "source": [
    "os.environ.get(\"QWEN_API_KEY\")"
   ]
  },
  {
   "cell_type": "code",
   "execution_count": 3,
   "metadata": {},
   "outputs": [],
   "source": [
    "from humanlayer.core.approval import HumanLayer"
   ]
  },
  {
   "cell_type": "code",
   "execution_count": 4,
   "metadata": {},
   "outputs": [
    {
     "name": "stderr",
     "output_type": "stream",
     "text": [
      "/root/miniconda3/lib/python3.11/site-packages/pydantic/main.py:214: UserWarning: A custom validator is returning a value other than `self`.\n",
      "Returning anything other than `self` from a top level model validator isn't supported when validating via `__init__`.\n",
      "See the `model_validator` docs (https://docs.pydantic.dev/latest/concepts/validators/#model-validators) for more details.\n",
      "  warnings.warn(\n"
     ]
    }
   ],
   "source": [
    "hl = HumanLayer(verbose=True)"
   ]
  },
  {
   "cell_type": "code",
   "execution_count": 5,
   "metadata": {},
   "outputs": [],
   "source": [
    "# add can be called without approval\n",
    "def add(x: int, y: int) -> int:\n",
    "    \"\"\"Add two numbers together.\"\"\"\n",
    "    return x + y\n",
    "\n",
    "\n",
    "# but multiply must be approved by a human\n",
    "@hl.require_approval()\n",
    "def multiply(x: int, y: int) -> int:\n",
    "    \"\"\"multiply two numbers\"\"\"\n",
    "    return x * y"
   ]
  },
  {
   "cell_type": "code",
   "execution_count": 6,
   "metadata": {},
   "outputs": [],
   "source": [
    "from camel.toolkits import FunctionTool\n",
    "from camel.agents import ChatAgent\n",
    "from camel.models import ModelFactory\n",
    "from camel.types import ModelPlatformType, ModelType"
   ]
  },
  {
   "cell_type": "code",
   "execution_count": 7,
   "metadata": {},
   "outputs": [
    {
     "name": "stderr",
     "output_type": "stream",
     "text": [
      "/root/work/camel/camel/toolkits/function_tool.py:461: UserWarning: Parameter description is missing for \n",
      "                            {'type': 'integer'}. This may affect the quality of tool \n",
      "                            calling.\n",
      "  warnings.warn(f\"\"\"Parameter description is missing for\n"
     ]
    },
    {
     "name": "stdout",
     "output_type": "stream",
     "text": [
      "HumanLayer: waiting for approval for multiply via humanlayer cloud\n",
      "HumanLayer: human approved multiply\n",
      "\n",
      "\n",
      "----------Result----------\n",
      "\n",
      "\n",
      "The multiplication of 2 and 5 is 10. Now, I need to add 32 to this result. So, 10 plus 32 equals 42.\n"
     ]
    }
   ],
   "source": [
    "model = ModelFactory.create(\n",
    "    model_platform=ModelPlatformType.QWEN,\n",
    "    model_type=ModelType.QWEN_QWQ_32B,\n",
    ")\n",
    "\n",
    "tools = [FunctionTool(add), FunctionTool(multiply)]\n",
    "\n",
    "agent_with_tools = ChatAgent(\n",
    "    model = model,\n",
    "    tools=tools\n",
    ")\n",
    "\n",
    "# Interact with the agent\n",
    "response = agent_with_tools.step(\"multiply 2 and 5, then add 32 to the result\")\n",
    "print(\"\\n\\n----------Result----------\\n\\n\")\n",
    "print(response.msgs[0].content)"
   ]
  },
  {
   "cell_type": "markdown",
   "metadata": {},
   "source": [
    "Human-in-loop interaction"
   ]
  },
  {
   "cell_type": "code",
   "execution_count": 8,
   "metadata": {},
   "outputs": [],
   "source": [
    "from camel.toolkits import HumanToolkit\n",
    "human_toolkit = HumanToolkit()"
   ]
  },
  {
   "cell_type": "code",
   "execution_count": 9,
   "metadata": {},
   "outputs": [
    {
     "name": "stdout",
     "output_type": "stream",
     "text": [
      "Question: What is the capital of France?\n",
      "That's correct! The capital of France is indeed Paris. Good job! 🎉\n"
     ]
    }
   ],
   "source": [
    "model = ModelFactory.create(\n",
    "    model_platform=ModelPlatformType.QWEN,\n",
    "    model_type=ModelType.QWEN_MAX,\n",
    ")\n",
    "agent = ChatAgent(\n",
    "    system_message=\"You are a helpful assistant.\",\n",
    "    model=model,\n",
    "    tools=[*human_toolkit.get_tools()],\n",
    ")\n",
    "\n",
    "response = agent.step(\n",
    "    \"Test me on the capital of some country, and comment on my answer.\"\n",
    ")\n",
    "\n",
    "print(response.msgs[0].content)"
   ]
  },
  {
   "cell_type": "code",
   "execution_count": null,
   "metadata": {},
   "outputs": [],
   "source": []
  }
 ],
 "metadata": {
  "kernelspec": {
   "display_name": "base",
   "language": "python",
   "name": "python3"
  },
  "language_info": {
   "codemirror_mode": {
    "name": "ipython",
    "version": 3
   },
   "file_extension": ".py",
   "mimetype": "text/x-python",
   "name": "python",
   "nbconvert_exporter": "python",
   "pygments_lexer": "ipython3",
   "version": "3.11.9"
  }
 },
 "nbformat": 4,
 "nbformat_minor": 2
}
