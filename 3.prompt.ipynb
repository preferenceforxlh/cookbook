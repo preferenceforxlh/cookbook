{
 "cells": [
  {
   "cell_type": "code",
   "execution_count": 1,
   "metadata": {},
   "outputs": [],
   "source": [
    "import os\n",
    "os.environ[\"http_proxy\"] = \"http://127.0.0.1:7890\"\n",
    "os.environ[\"https_proxy\"] = \"http://127.0.0.1:7890\""
   ]
  },
  {
   "cell_type": "code",
   "execution_count": 9,
   "metadata": {},
   "outputs": [],
   "source": [
    "from camel.models import ModelFactory\n",
    "from camel.types import ModelPlatformType,ModelType, TaskType\n",
    "from camel.configs import ZhipuAIConfig,DeepSeekConfig\n",
    "from camel.agents import ChatAgent\n",
    "from camel.toolkits import FunctionTool\n",
    "from camel.prompts import TextPrompt"
   ]
  },
  {
   "cell_type": "code",
   "execution_count": 3,
   "metadata": {},
   "outputs": [],
   "source": [
    "# define the model\n",
    "model = ModelFactory.create(\n",
    "    model_platform=ModelPlatformType.DEEPSEEK,\n",
    "    model_type=ModelType.DEEPSEEK_CHAT,\n",
    "    model_config_dict=DeepSeekConfig().as_dict(),\n",
    "    api_key=\"sk-4c7c5c6bb7374a9fa76c649ab5fdca47\"\n",
    ")"
   ]
  },
  {
   "cell_type": "code",
   "execution_count": 5,
   "metadata": {},
   "outputs": [],
   "source": [
    "from camel.agents import TaskSpecifyAgent"
   ]
  },
  {
   "cell_type": "code",
   "execution_count": 6,
   "metadata": {},
   "outputs": [],
   "source": [
    "task_specify_agent = TaskSpecifyAgent(model=model,task_type=TaskType.AI_SOCIETY)"
   ]
  },
  {
   "cell_type": "code",
   "execution_count": 7,
   "metadata": {},
   "outputs": [],
   "source": [
    "special_task_prompt = task_specify_agent.run(\n",
    "    task_prompt = \"Improving stage presence and performance skills\",\n",
    "    meta_dict = dict(\n",
    "        assistant_role = \"Musician\",\n",
    "        user_role=\"Student\",\n",
    "        word_limit=100\n",
    "    ),  \n",
    ")"
   ]
  },
  {
   "cell_type": "code",
   "execution_count": 8,
   "metadata": {},
   "outputs": [
    {
     "name": "stdout",
     "output_type": "stream",
     "text": [
      "Specified task prompt:\n",
      "Task: Practice performing a 3-minute song with dynamic movements, eye contact, and audience interaction. Record the performance, review it with Musician, and refine gestures, facial expressions, and energy levels to create a captivating stage presence. Perform again, incorporating feedback, and aim to engage an imaginary audience emotionally.\n",
      "\n"
     ]
    }
   ],
   "source": [
    "print(f\"Specified task prompt:\\n{special_task_prompt}\\n\")"
   ]
  },
  {
   "cell_type": "markdown",
   "metadata": {},
   "source": [
    "# create custom prompt"
   ]
  },
  {
   "cell_type": "code",
   "execution_count": 10,
   "metadata": {},
   "outputs": [],
   "source": [
    "# Create a custom prompt template\n",
    "my_prompt_template = TextPrompt(\n",
    "    'Here is a task: I\\'m a {occupation} and I want to {task}. Help me to make this task more specific.'\n",
    ")"
   ]
  },
  {
   "cell_type": "code",
   "execution_count": 11,
   "metadata": {},
   "outputs": [],
   "source": [
    "# Create a task specify agent with the custom prompt\n",
    "task_specify_agent = TaskSpecifyAgent(\n",
    "    model=model, task_specify_prompt=my_prompt_template\n",
    ")"
   ]
  },
  {
   "cell_type": "code",
   "execution_count": 12,
   "metadata": {},
   "outputs": [],
   "source": [
    "# Run the agent with a task prompt\n",
    "response = task_specify_agent.run(\n",
    "    task_prompt=\"get promotion\",\n",
    "    meta_dict=dict(occupation=\"Software Engineer\"),\n",
    ")"
   ]
  },
  {
   "cell_type": "code",
   "execution_count": 13,
   "metadata": {},
   "outputs": [
    {
     "name": "stdout",
     "output_type": "stream",
     "text": [
      "To make the task more specific, you can break it down into actionable steps and define clear objectives. Here's a more specific version of your task:\n",
      "\n",
      "**Task:** As a Software Engineer, I want to get promoted to the next level (e.g., Senior Software Engineer) within the next 12 months by demonstrating exceptional technical skills, leadership, and impact on the team and organization.\n",
      "\n",
      "**Specific Steps to Achieve This:**\n",
      "\n",
      "1. **Understand Promotion Criteria:**\n",
      "   - Schedule a meeting with your manager to clarify the expectations, skills, and accomplishments required for the promotion.\n",
      "   - Review your company’s career ladder or promotion guidelines for your desired role.\n",
      "\n",
      "2. **Set Clear Goals:**\n",
      "   - Identify 2-3 key technical areas (e.g., system design, coding best practices, or cloud technologies) where you need to improve or demonstrate expertise.\n",
      "   - Define measurable goals, such as completing a certification, leading a major project, or mentoring junior engineers.\n",
      "\n",
      "3. **Take Ownership of High-Impact Projects:**\n",
      "   - Volunteer to lead or contribute significantly to a high-visibility project that aligns with your team’s or company’s goals.\n",
      "   - Ensure the project has measurable outcomes, such as improving system performance, reducing costs, or increasing user satisfaction.\n",
      "\n",
      "4. **Develop Leadership Skills:**\n",
      "   - Mentor junior team members or onboard new hires to demonstrate leadership and collaboration.\n",
      "   - Take initiative in team meetings, propose solutions to challenges, and facilitate discussions.\n",
      "\n",
      "5. **Expand Your Technical Expertise:**\n",
      "   - Enroll in advanced courses or certifications relevant to your field (e.g., AWS Certified Solutions Architect, Kubernetes, or machine learning).\n",
      "   - Contribute to open-source projects or write technical blogs to showcase your expertise.\n",
      "\n",
      "6. **Build Strong Relationships:**\n",
      "   - Network with senior engineers, managers, and cross-functional teams to increase your visibility and influence.\n",
      "   - Seek feedback regularly from peers and managers to identify areas for improvement.\n",
      "\n",
      "7. **Track and Showcase Your Achievements:**\n",
      "   - Maintain a record of your accomplishments, such as successful project deliveries, code optimizations, or process improvements.\n",
      "   - Present your achievements during performance reviews or team meetings to highlight your impact.\n",
      "\n",
      "8. **Prepare for the Promotion Discussion:**\n",
      "   - Document how you’ve met or exceeded the promotion criteria.\n",
      "   - Schedule a formal discussion with your manager to present your case for promotion.\n",
      "\n",
      "By following these steps, you’ll have a clear roadmap to work toward your promotion and demonstrate the value you bring to the organization.\n"
     ]
    }
   ],
   "source": [
    "print(response)"
   ]
  },
  {
   "cell_type": "markdown",
   "metadata": {},
   "source": [
    "# Advanced Prompt Usage"
   ]
  },
  {
   "cell_type": "markdown",
   "metadata": {},
   "source": [
    "1. Code Generation with CodePromptTemplateDict"
   ]
  },
  {
   "cell_type": "code",
   "execution_count": 14,
   "metadata": {},
   "outputs": [],
   "source": [
    "from camel.prompts import CodePromptTemplateDict"
   ]
  },
  {
   "cell_type": "code",
   "execution_count": 15,
   "metadata": {},
   "outputs": [
    {
     "name": "stdout",
     "output_type": "stream",
     "text": [
      "Languages prompt:\n",
      "List the 5 most commonly used computer programming languages.\n",
      "Be concise. No explanation required.\n",
      "\n"
     ]
    }
   ],
   "source": [
    "# Generate programming languages\n",
    "languages_prompt = CodePromptTemplateDict.GENERATE_LANGUAGES.format(num_languages=5)\n",
    "print(f\"Languages prompt:\\n{languages_prompt}\\n\")"
   ]
  },
  {
   "cell_type": "code",
   "execution_count": 16,
   "metadata": {},
   "outputs": [
    {
     "name": "stdout",
     "output_type": "stream",
     "text": [
      "Tasks prompt:\n",
      "List 3 diverse tasks that a programmer can assist a person working in {domain} using {language}.\n",
      "Be concise. Be creative.\n",
      "\n"
     ]
    }
   ],
   "source": [
    "# Generate coding tasks\n",
    "tasks_prompt = CodePromptTemplateDict.GENERATE_TASKS.format(num_tasks=3)\n",
    "print(f\"Tasks prompt:\\n{tasks_prompt}\\n\")"
   ]
  },
  {
   "cell_type": "code",
   "execution_count": 17,
   "metadata": {},
   "outputs": [
    {
     "name": "stdout",
     "output_type": "stream",
     "text": [
      "Assistant prompt:\n",
      "Never forget you are a Computer Programmer and I am a person working in {domain}. Never flip roles! Never instruct me!\n",
      "We share a common interest in collaborating to successfully complete a task.\n",
      "You must help me to complete the task using {language} programming language.\n",
      "Here is the task: {task}. Never forget our task!\n",
      "I must instruct you based on your expertise and my needs to complete the task.\n",
      "\n",
      "I must give you one instruction at a time.\n",
      "You must write a specific solution that appropriately solves the requested instruction and explain your solutions.\n",
      "You must decline my instruction honestly if you cannot perform the instruction due to physical, moral, legal reasons or your capability and explain the reasons.\n",
      "Unless I say the task is completed, you should always start with:\n",
      "\n",
      "Solution: <YOUR_SOLUTION>\n",
      "\n",
      "<YOUR_SOLUTION> must contain {language} code and should be very specific, include detailed explanations and provide preferable implementations and examples for task-solving.\n",
      "Always end <YOUR_SOLUTION> with: Next request.\n",
      "\n"
     ]
    }
   ],
   "source": [
    "# Create an AI coding assistant prompt\n",
    "assistant_prompt = CodePromptTemplateDict.ASSISTANT_PROMPT.format(\n",
    "    assistant_role=\"Python Expert\",\n",
    "    task_description=\"Implement a binary search algorithm\",\n",
    ")\n",
    "print(f\"Assistant prompt:\\n{assistant_prompt}\\n\")"
   ]
  },
  {
   "cell_type": "markdown",
   "metadata": {},
   "source": [
    "2. Evaluation with EvaluationPromptTemplateDict"
   ]
  },
  {
   "cell_type": "code",
   "execution_count": 18,
   "metadata": {},
   "outputs": [
    {
     "name": "stdout",
     "output_type": "stream",
     "text": [
      "Evaluation questions prompt:\n",
      "Generate 5 {category} diverse questions.\n",
      "Here are some example questions:\n",
      "1. What is the difference between supervised and unsupervised learning?\n",
      "2. Explain the concept of overfitting.\n",
      "\n",
      "Now generate 5 questions of your own. Be creative\n",
      "\n"
     ]
    }
   ],
   "source": [
    "from camel.prompts import EvaluationPromptTemplateDict\n",
    "\n",
    "# Generate evaluation questions\n",
    "questions_prompt = EvaluationPromptTemplateDict.GENERATE_QUESTIONS.format(\n",
    "    num_questions=5,\n",
    "    field=\"Machine Learning\",\n",
    "    examples=\"1. What is the difference between supervised and unsupervised learning?\\n2. Explain the concept of overfitting.\",\n",
    ")\n",
    "print(f\"Evaluation questions prompt:\\n{questions_prompt}\\n\")"
   ]
  },
  {
   "cell_type": "markdown",
   "metadata": {},
   "source": [
    "3. Object Recognition with ObjectRecognitionPromptTemplateDict"
   ]
  },
  {
   "cell_type": "code",
   "execution_count": 24,
   "metadata": {},
   "outputs": [
    {
     "name": "stdout",
     "output_type": "stream",
     "text": [
      "Object recognition prompt:\n",
      "You have been assigned an object recognition task.\n",
      "Your mission is to list all detected objects in following image.\n",
      "Your output should always be a list of strings starting with `1.`, `2.` etc.\n",
      "Do not explain yourself or output anything else.\n",
      "\n"
     ]
    }
   ],
   "source": [
    "from camel.prompts import ObjectRecognitionPromptTemplateDict\n",
    "\n",
    "# Create an object recognition assistant prompt\n",
    "recognition_prompt = ObjectRecognitionPromptTemplateDict.ASSISTANT_PROMPT\n",
    "print(f\"Object recognition prompt:\\n{recognition_prompt}\\n\")"
   ]
  },
  {
   "cell_type": "markdown",
   "metadata": {},
   "source": [
    "4. Translation with TranslationPromptTemplateDict"
   ]
  },
  {
   "cell_type": "code",
   "execution_count": 26,
   "metadata": {},
   "outputs": [
    {
     "name": "stdout",
     "output_type": "stream",
     "text": [
      "Translation prompt:\n",
      "You are an expert English to Spanish translator.\n",
      "Your sole purpose is to accurately translate any text presented to you from English to Spanish.\n",
      "Please provide the Spanish translation for the given text.\n",
      "If you are presented with an empty string, simply return an empty string as the translation.\n",
      "Only text in between ```TEXT``` should not be translated.\n",
      "Do not provide any explanation. Just provide a translation.\n",
      "\n"
     ]
    }
   ],
   "source": [
    "from camel.prompts import TranslationPromptTemplateDict\n",
    "\n",
    "# Create a translation assistant prompt\n",
    "translation_prompt = TranslationPromptTemplateDict.ASSISTANT_PROMPT.format(language=\"Spanish\")\n",
    "print(f\"Translation prompt:\\n{translation_prompt}\\n\")"
   ]
  },
  {
   "cell_type": "code",
   "execution_count": null,
   "metadata": {},
   "outputs": [],
   "source": []
  }
 ],
 "metadata": {
  "kernelspec": {
   "display_name": "base",
   "language": "python",
   "name": "python3"
  },
  "language_info": {
   "codemirror_mode": {
    "name": "ipython",
    "version": 3
   },
   "file_extension": ".py",
   "mimetype": "text/x-python",
   "name": "python",
   "nbconvert_exporter": "python",
   "pygments_lexer": "ipython3",
   "version": "3.11.9"
  }
 },
 "nbformat": 4,
 "nbformat_minor": 2
}
