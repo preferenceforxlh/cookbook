{
 "cells": [
  {
   "cell_type": "code",
   "execution_count": 1,
   "metadata": {},
   "outputs": [],
   "source": [
    "import os\n",
    "os.environ[\"http_proxy\"] = \"http://127.0.0.1:3078\"\n",
    "os.environ[\"https_proxy\"] = \"http://127.0.0.1:3078\""
   ]
  },
  {
   "cell_type": "code",
   "execution_count": 6,
   "metadata": {},
   "outputs": [],
   "source": [
    "from camel.models import ModelFactory\n",
    "from camel.types import ModelPlatformType,ModelType, TaskType\n",
    "from camel.configs import ZhipuAIConfig,DeepSeekConfig\n",
    "from camel.agents import ChatAgent\n",
    "from camel.toolkits import FunctionTool"
   ]
  },
  {
   "cell_type": "code",
   "execution_count": 3,
   "metadata": {},
   "outputs": [],
   "source": [
    "# define the model\n",
    "model = ModelFactory.create(\n",
    "    model_platform=ModelPlatformType.DEEPSEEK,\n",
    "    model_type=ModelType.DEEPSEEK_CHAT,\n",
    "    model_config_dict=DeepSeekConfig().as_dict(),\n",
    "    api_key=\"sk-4c7c5c6bb7374a9fa76c649ab5fdca47\"\n",
    ")"
   ]
  },
  {
   "cell_type": "code",
   "execution_count": 4,
   "metadata": {},
   "outputs": [],
   "source": [
    "from camel.agents import TaskSpecifyAgent"
   ]
  },
  {
   "cell_type": "code",
   "execution_count": 7,
   "metadata": {},
   "outputs": [],
   "source": [
    "task_specify_agent = TaskSpecifyAgent(model=model,task_type=TaskType.AI_SOCIETY)"
   ]
  },
  {
   "cell_type": "code",
   "execution_count": 8,
   "metadata": {},
   "outputs": [],
   "source": [
    "special_task_prompt = task_specify_agent.run(\n",
    "    task_prompt = \"Improving stage presence and performance skills\",\n",
    "    meta_dict = dict(\n",
    "        assistant_role = \"Musician\",\n",
    "        user_role=\"Student\",\n",
    "        word_limit=100\n",
    "    ),  \n",
    ")"
   ]
  },
  {
   "cell_type": "code",
   "execution_count": 9,
   "metadata": {},
   "outputs": [
    {
     "name": "stdout",
     "output_type": "stream",
     "text": [
      "Specified task prompt:\n",
      "Musician will guide Student through a 4-week program focusing on dynamic stage movement, audience engagement, and emotional storytelling. Weekly sessions include choreographed routines, improvisation exercises, and live performance simulations to build confidence, charisma, and connection with the audience, culminating in a final showcase.\n",
      "\n"
     ]
    }
   ],
   "source": [
    "print(f\"Specified task prompt:\\n{special_task_prompt}\\n\")"
   ]
  },
  {
   "cell_type": "code",
   "execution_count": null,
   "metadata": {},
   "outputs": [],
   "source": []
  }
 ],
 "metadata": {
  "kernelspec": {
   "display_name": "camel",
   "language": "python",
   "name": "python3"
  },
  "language_info": {
   "codemirror_mode": {
    "name": "ipython",
    "version": 3
   },
   "file_extension": ".py",
   "mimetype": "text/x-python",
   "name": "python",
   "nbconvert_exporter": "python",
   "pygments_lexer": "ipython3",
   "version": "3.10.16"
  }
 },
 "nbformat": 4,
 "nbformat_minor": 2
}
