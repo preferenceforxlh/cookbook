{
 "cells": [
  {
   "cell_type": "markdown",
   "metadata": {},
   "source": [
    "# Usage\n",
    "## To use the Memory module in your agent:\n",
    "\n",
    "1. Choose an appropriate AgentMemory implementation (ChatHistoryMemory, VectorDBMemory, or LongtermAgentMemory).\n",
    "\n",
    "2. Initialize the memory with a context creator and any necessary parameters.\n",
    "\n",
    "3. Use write_records() to add new information to the memory.\n",
    "\n",
    "4. Use retrieve() to get relevant context for the agent’s next action.\n",
    "\n",
    "5. Use get_context() to obtain the formatted context for the agent."
   ]
  },
  {
   "cell_type": "markdown",
   "metadata": {},
   "source": [
    "# Setting LongtermAgentMemory\n",
    "## Import required modules"
   ]
  },
  {
   "cell_type": "code",
   "execution_count": 8,
   "metadata": {},
   "outputs": [],
   "source": [
    "from camel.memories import (\n",
    "    ChatHistoryBlock,\n",
    "    LongtermAgentMemory,\n",
    "    ChatHistoryMemory,\n",
    "    MemoryRecord,\n",
    "    ScoreBasedContextCreator,\n",
    "    VectorDBBlock\n",
    ")\n",
    "\n",
    "from camel.messages import BaseMessage\n",
    "from camel.types import ModelPlatformType, ModelType, OpenAIBackendRole\n",
    "from camel.utils import OpenAITokenCounter"
   ]
  },
  {
   "cell_type": "code",
   "execution_count": 9,
   "metadata": {},
   "outputs": [],
   "source": [
    "# Initialize the memory\n",
    "memory = ChatHistoryMemory(\n",
    "    ScoreBasedContextCreator(\n",
    "        token_counter=OpenAITokenCounter(model=ModelType.GPT_4O_MINI),\n",
    "        token_limit=1024,\n",
    "    ),\n",
    ")"
   ]
  },
  {
   "cell_type": "code",
   "execution_count": 10,
   "metadata": {},
   "outputs": [],
   "source": [
    "# Create and write new records\n",
    "records = [\n",
    "    MemoryRecord(\n",
    "        message=BaseMessage.make_user_message(\n",
    "            role_name=\"User\",\n",
    "            content=\"What is CAMEL AI?\",\n",
    "        ),\n",
    "        role_at_backend=OpenAIBackendRole.USER,\n",
    "    ),\n",
    "    MemoryRecord(\n",
    "        message=BaseMessage.make_assistant_message(\n",
    "            role_name=\"Agent\",\n",
    "            content=\"CAMEL-AI.org is the 1st LLM multi-agent framework and \"\n",
    "            \"an open-source community dedicated to finding the scaling law \"\n",
    "            \"of agents.\",\n",
    "        ),\n",
    "        role_at_backend=OpenAIBackendRole.ASSISTANT,\n",
    "    ),\n",
    "]\n",
    "memory.write_records(records)"
   ]
  },
  {
   "cell_type": "code",
   "execution_count": 11,
   "metadata": {},
   "outputs": [],
   "source": [
    "# Get context for the agent\n",
    "context, token_count = memory.get_context()"
   ]
  },
  {
   "cell_type": "code",
   "execution_count": 12,
   "metadata": {},
   "outputs": [
    {
     "name": "stdout",
     "output_type": "stream",
     "text": [
      "[{'role': 'user', 'content': 'What is CAMEL AI?'}, {'role': 'assistant', 'content': 'CAMEL-AI.org is the 1st LLM multi-agent framework and an open-source community dedicated to finding the scaling law of agents.'}]\n"
     ]
    }
   ],
   "source": [
    "print(context)"
   ]
  },
  {
   "cell_type": "code",
   "execution_count": 13,
   "metadata": {},
   "outputs": [
    {
     "name": "stdout",
     "output_type": "stream",
     "text": [
      "49\n"
     ]
    }
   ],
   "source": [
    "print(token_count)"
   ]
  },
  {
   "cell_type": "markdown",
   "metadata": {},
   "source": [
    "## Customizing Context Creator\n",
    "#### You can create custom context creators by subclassing BaseContextCreator"
   ]
  },
  {
   "cell_type": "code",
   "execution_count": null,
   "metadata": {},
   "outputs": [],
   "source": [
    "from camel.memories import BaseContextCreator\n",
    "\n",
    "class MyCustomContextCreator(BaseContextCreator):\n",
    "    @property\n",
    "    def token_counter(self):\n",
    "        # Implement your token counting logic\n",
    "        return\n",
    "\n",
    "    @property\n",
    "    def token_limit(self):\n",
    "        return 1000  # Or any other limit\n",
    "\n",
    "    def create_context(self, records):\n",
    "        # Implement your context creation logic\n",
    "        pass"
   ]
  },
  {
   "cell_type": "markdown",
   "metadata": {},
   "source": [
    "## Customizing Vector Database Block\n",
    "#### For VectorDBBlock, you can customize it by adjusting the embedding models or vector storages"
   ]
  },
  {
   "cell_type": "code",
   "execution_count": null,
   "metadata": {},
   "outputs": [],
   "source": [
    "from camel.embeddings import OpenAIEmbedding\n",
    "from camel.memories import VectorDBBlock\n",
    "from camel.storages import QdrantStorage\n",
    "\n",
    "vector_db = VectorDBBlock(\n",
    "    embedding=OpenAIEmbedding(),\n",
    "    storage=QdrantStorage(vector_dim=OpenAIEmbedding().get_output_dim()),\n",
    ")"
   ]
  }
 ],
 "metadata": {
  "kernelspec": {
   "display_name": "base",
   "language": "python",
   "name": "python3"
  },
  "language_info": {
   "codemirror_mode": {
    "name": "ipython",
    "version": 3
   },
   "file_extension": ".py",
   "mimetype": "text/x-python",
   "name": "python",
   "nbconvert_exporter": "python",
   "pygments_lexer": "ipython3",
   "version": "3.11.9"
  }
 },
 "nbformat": 4,
 "nbformat_minor": 2
}
