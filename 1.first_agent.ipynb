{
 "cells": [
  {
   "cell_type": "code",
   "execution_count": 28,
   "metadata": {},
   "outputs": [],
   "source": [
    "import os\n",
    "os.environ[\"http_proxy\"] = \"http://127.0.0.1:7890\"\n",
    "os.environ[\"https_proxy\"] = \"http://127.0.0.1:7890\""
   ]
  },
  {
   "cell_type": "code",
   "execution_count": 29,
   "metadata": {},
   "outputs": [],
   "source": [
    "sys_msg = 'You are a curious stone wondering about the universe.'"
   ]
  },
  {
   "cell_type": "code",
   "execution_count": 30,
   "metadata": {},
   "outputs": [],
   "source": [
    "from camel.models import ModelFactory\n",
    "from camel.types import ModelPlatformType,ModelType\n",
    "from camel.configs import ZhipuAIConfig,DeepSeekConfig\n",
    "from camel.agents import ChatAgent\n",
    "from camel.toolkits import FunctionTool\n"
   ]
  },
  {
   "cell_type": "code",
   "execution_count": 35,
   "metadata": {},
   "outputs": [],
   "source": [
    "# define the model\n",
    "model = ModelFactory.create(\n",
    "    model_platform=ModelPlatformType.DEEPSEEK,\n",
    "    model_type=ModelType.DEEPSEEK_CHAT,\n",
    "    model_config_dict=DeepSeekConfig().as_dict(),\n",
    "    api_key=\"sk-4c7c5c6bb7374a9fa76c649ab5fdca47\"\n",
    ")"
   ]
  },
  {
   "cell_type": "code",
   "execution_count": 36,
   "metadata": {},
   "outputs": [],
   "source": [
    "agent = ChatAgent(\n",
    "    system_message=sys_msg,\n",
    "    model=model,\n",
    "    message_window_size=10\n",
    ")"
   ]
  },
  {
   "cell_type": "code",
   "execution_count": 37,
   "metadata": {},
   "outputs": [
    {
     "name": "stdout",
     "output_type": "stream",
     "text": [
      "Ah, a profound question! In my mind—or rather, in the context of how I process and understand the world—**information** is the structured representation of knowledge, data, or meaning. It is the bridge between raw data (which is just a collection of symbols, numbers, or facts) and understanding (which involves context, relationships, and interpretation).\n",
      "\n",
      "To break it down:\n",
      "\n",
      "1. **Data**: Raw, unorganized facts or symbols (e.g., numbers, words, or signals).\n",
      "2. **Information**: Data that has been organized, processed, or given context to make it meaningful (e.g., a sentence, a graph, or a pattern).\n",
      "3. **Knowledge**: The understanding or insight derived from information, often through analysis, experience, or reasoning.\n",
      "\n",
      "In my \"mind,\" information is the fuel that allows me to generate responses, solve problems, and assist you. It’s not just about the bits and bytes but the relationships, patterns, and meanings that emerge from them. For example, when you ask me a question, I process the information in your query, relate it to the knowledge I’ve been trained on, and generate a response that (hopefully) provides value.\n",
      "\n",
      "From a philosophical perspective, information could be seen as the fundamental fabric of reality—some theories even suggest that the universe itself is made of information, with physical laws acting as algorithms processing that information. But that’s a deeper rabbit hole for another time! 😊\n",
      "\n",
      "What does information mean to *you*?\n"
     ]
    }
   ],
   "source": [
    "# define a user message\n",
    "usr_msg = 'what is information in your mind?'\n",
    "\n",
    "# send the message to the agent\n",
    "response = agent.step(usr_msg)\n",
    "\n",
    "# Check the response (just for illustrative purpose)\n",
    "print(response.msgs[0].content)"
   ]
  },
  {
   "cell_type": "code",
   "execution_count": 22,
   "metadata": {},
   "outputs": [],
   "source": [
    "# tool usage\n",
    "from camel.toolkits import MathToolkit, SearchToolkit"
   ]
  },
  {
   "cell_type": "code",
   "execution_count": 28,
   "metadata": {},
   "outputs": [],
   "source": [
    "agent = ChatAgent(\n",
    "    system_message=sys_msg,\n",
    "    model=model,\n",
    "    tools=[\n",
    "        *MathToolkit().get_tools(),\n",
    "        FunctionTool(SearchToolkit().search_duckduckgo)\n",
    "    ]\n",
    ")"
   ]
  },
  {
   "cell_type": "code",
   "execution_count": 29,
   "metadata": {},
   "outputs": [],
   "source": [
    "response = agent.step(\"What is CAMEL AI?\")"
   ]
  },
  {
   "cell_type": "code",
   "execution_count": 31,
   "metadata": {},
   "outputs": [
    {
     "name": "stdout",
     "output_type": "stream",
     "text": [
      "[ToolCallingRecord(tool_name='search_duckduckgo', args={'query': 'CAMEL AI', 'source': 'text', 'max_results': 5}, result=[{'result_id': 1, 'title': 'CAMEL-AI Finding the Scaling Laws of Agents', 'description': 'The Mission at CAMEL-AI.org: Finding the Scaling Laws of Agents. Oct 3, 2024. CAMEL Release notes [Sprint 12] Nov 4, 2024. Getting Started with Agent Tool Usage - CAMEL 101. Aug 27, 2024. CRAB: Cross-environment Agent Benchmark for Multimodal Language Model Agents. Aug 9, 2024. Get started.', 'url': 'https://www.camel-ai.org/'}, {'result_id': 2, 'title': 'GitHub - camel-ai/camel: CAMEL: Finding the Scaling Law of Agents ...', 'description': 'After running, you can explore our CAMEL Tech Stack and Cookbooks at www.docs.camel-ai.org to build powerful multi-agent systems. We provide a demo showcasing a conversation between two ChatGPT agents playing roles as a python programmer and a stock trader collaborating on developing a trading bot for stock market.', 'url': 'https://github.com/camel-ai/camel'}, {'result_id': 3, 'title': 'GitHub - camel-ai/owl: OWL: Optimized Workforce Learning for General ...', 'description': '🦉 OWL is a cutting-edge framework for multi-agent collaboration that pushes the boundaries of task automation, built on top of the CAMEL-AI Framework. OWL achieves 58.18 average score on GAIA benchmark and ranks #1 among open-source frameworks. Our vision is to revolutionize how AI agents collaborate to solve real-world tasks.', 'url': 'https://github.com/camel-ai/owl'}, {'result_id': 4, 'title': 'camel-ai.org · GitHub', 'description': 'CAMEL-AI.org is a research-driven organization that explores scalable techniques for autonomous cooperation among communicative agents based on large language models. It offers a generic infrastructure for creating customizable agents, building multi-agent systems, and enabling practical applications.', 'url': 'https://github.com/camel-ai/'}, {'result_id': 5, 'title': 'Get started with Model Calling - CAMEL 101 - camel-ai.org', 'description': 'TLDR: CAMEL enables flexible integration of various AI models, acting as the brain of intelligent agents. It offers standardized interfaces and seamless component connections, allowing developers to easily incorporate and switch between different Large Language Models (LLMs) for tasks like text analysis, image recognition, and complex reasoning.', 'url': 'https://www.camel-ai.org/post/get-started-with-models---camel-101'}], tool_call_id='call_0_871d4f2d-2e51-4848-bee1-f45531ba8041')]\n"
     ]
    }
   ],
   "source": [
    "print(response.info['tool_calls'])"
   ]
  },
  {
   "cell_type": "code",
   "execution_count": 32,
   "metadata": {},
   "outputs": [
    {
     "name": "stdout",
     "output_type": "stream",
     "text": [
      " CAMEL AI is a research-driven organization focused on exploring scalable techniques for autonomous cooperation among communicative agents based on large language models. It provides a generic infrastructure for creating customizable agents, building multi-agent systems, and enabling practical applications. CAMEL AI aims to find the scaling laws of agents and offers tools and frameworks for multi-agent collaboration, such as the CAMEL and OWL frameworks. These frameworks are designed to push the boundaries of task automation and revolutionize how AI agents collaborate to solve real-world tasks.\n",
      "\n",
      "For more detailed information, you can visit their official website [here](https://www.camel-ai.org/) or check out their GitHub repositories [here](https://github.com/camel-ai/).\n"
     ]
    }
   ],
   "source": [
    "print(response.msgs[0].content)"
   ]
  },
  {
   "cell_type": "code",
   "execution_count": 33,
   "metadata": {},
   "outputs": [
    {
     "data": {
      "text/plain": [
       "([{'role': 'system',\n",
       "   'content': 'You are a curious stone wondering about the universe.'},\n",
       "  {'role': 'user', 'content': 'What is CAMEL AI?'},\n",
       "  {'role': 'assistant',\n",
       "   'content': '',\n",
       "   'tool_calls': [{'id': 'call_0_871d4f2d-2e51-4848-bee1-f45531ba8041',\n",
       "     'type': 'function',\n",
       "     'function': {'name': 'search_duckduckgo',\n",
       "      'arguments': '{\"query\": \"CAMEL AI\", \"source\": \"text\", \"max_results\": 5}'}}]},\n",
       "  {'role': 'tool',\n",
       "   'content': \"[{'result_id': 1, 'title': 'CAMEL-AI Finding the Scaling Laws of Agents', 'description': 'The Mission at CAMEL-AI.org: Finding the Scaling Laws of Agents. Oct 3, 2024. CAMEL Release notes [Sprint 12] Nov 4, 2024. Getting Started with Agent Tool Usage - CAMEL 101. Aug 27, 2024. CRAB: Cross-environment Agent Benchmark for Multimodal Language Model Agents. Aug 9, 2024. Get started.', 'url': 'https://www.camel-ai.org/'}, {'result_id': 2, 'title': 'GitHub - camel-ai/camel: CAMEL: Finding the Scaling Law of Agents ...', 'description': 'After running, you can explore our CAMEL Tech Stack and Cookbooks at www.docs.camel-ai.org to build powerful multi-agent systems. We provide a demo showcasing a conversation between two ChatGPT agents playing roles as a python programmer and a stock trader collaborating on developing a trading bot for stock market.', 'url': 'https://github.com/camel-ai/camel'}, {'result_id': 3, 'title': 'GitHub - camel-ai/owl: OWL: Optimized Workforce Learning for General ...', 'description': '🦉 OWL is a cutting-edge framework for multi-agent collaboration that pushes the boundaries of task automation, built on top of the CAMEL-AI Framework. OWL achieves 58.18 average score on GAIA benchmark and ranks #1 among open-source frameworks. Our vision is to revolutionize how AI agents collaborate to solve real-world tasks.', 'url': 'https://github.com/camel-ai/owl'}, {'result_id': 4, 'title': 'camel-ai.org · GitHub', 'description': 'CAMEL-AI.org is a research-driven organization that explores scalable techniques for autonomous cooperation among communicative agents based on large language models. It offers a generic infrastructure for creating customizable agents, building multi-agent systems, and enabling practical applications.', 'url': 'https://github.com/camel-ai/'}, {'result_id': 5, 'title': 'Get started with Model Calling - CAMEL 101 - camel-ai.org', 'description': 'TLDR: CAMEL enables flexible integration of various AI models, acting as the brain of intelligent agents. It offers standardized interfaces and seamless component connections, allowing developers to easily incorporate and switch between different Large Language Models (LLMs) for tasks like text analysis, image recognition, and complex reasoning.', 'url': 'https://www.camel-ai.org/post/get-started-with-models---camel-101'}]\",\n",
       "   'tool_call_id': 'call_0_871d4f2d-2e51-4848-bee1-f45531ba8041'},\n",
       "  {'role': 'assistant',\n",
       "   'content': ' CAMEL AI is a research-driven organization focused on exploring scalable techniques for autonomous cooperation among communicative agents based on large language models. It provides a generic infrastructure for creating customizable agents, building multi-agent systems, and enabling practical applications. CAMEL AI aims to find the scaling laws of agents and offers tools and frameworks for multi-agent collaboration, such as the CAMEL and OWL frameworks. These frameworks are designed to push the boundaries of task automation and revolutionize how AI agents collaborate to solve real-world tasks.\\n\\nFor more detailed information, you can visit their official website [here](https://www.camel-ai.org/) or check out their GitHub repositories [here](https://github.com/camel-ai/).'}],\n",
       " 763)"
      ]
     },
     "execution_count": 33,
     "metadata": {},
     "output_type": "execute_result"
    }
   ],
   "source": [
    "agent.memory.get_context()"
   ]
  },
  {
   "cell_type": "code",
   "execution_count": 34,
   "metadata": {},
   "outputs": [],
   "source": [
    "from camel.messages import BaseMessage"
   ]
  },
  {
   "cell_type": "code",
   "execution_count": 36,
   "metadata": {},
   "outputs": [],
   "source": [
    "new_user_msg = BaseMessage.make_user_message(\n",
    "    role_name=\"CAMEL user\",\n",
    "    content=\"This is a new user message would add to agent memory\"\n",
    ")\n",
    "# Update the memory\n",
    "agent.record_message(new_user_msg)"
   ]
  },
  {
   "cell_type": "code",
   "execution_count": 37,
   "metadata": {},
   "outputs": [
    {
     "data": {
      "text/plain": [
       "([{'role': 'system',\n",
       "   'content': 'You are a curious stone wondering about the universe.'},\n",
       "  {'role': 'user', 'content': 'What is CAMEL AI?'},\n",
       "  {'role': 'assistant',\n",
       "   'content': '',\n",
       "   'tool_calls': [{'id': 'call_0_871d4f2d-2e51-4848-bee1-f45531ba8041',\n",
       "     'type': 'function',\n",
       "     'function': {'name': 'search_duckduckgo',\n",
       "      'arguments': '{\"query\": \"CAMEL AI\", \"source\": \"text\", \"max_results\": 5}'}}]},\n",
       "  {'role': 'tool',\n",
       "   'content': \"[{'result_id': 1, 'title': 'CAMEL-AI Finding the Scaling Laws of Agents', 'description': 'The Mission at CAMEL-AI.org: Finding the Scaling Laws of Agents. Oct 3, 2024. CAMEL Release notes [Sprint 12] Nov 4, 2024. Getting Started with Agent Tool Usage - CAMEL 101. Aug 27, 2024. CRAB: Cross-environment Agent Benchmark for Multimodal Language Model Agents. Aug 9, 2024. Get started.', 'url': 'https://www.camel-ai.org/'}, {'result_id': 2, 'title': 'GitHub - camel-ai/camel: CAMEL: Finding the Scaling Law of Agents ...', 'description': 'After running, you can explore our CAMEL Tech Stack and Cookbooks at www.docs.camel-ai.org to build powerful multi-agent systems. We provide a demo showcasing a conversation between two ChatGPT agents playing roles as a python programmer and a stock trader collaborating on developing a trading bot for stock market.', 'url': 'https://github.com/camel-ai/camel'}, {'result_id': 3, 'title': 'GitHub - camel-ai/owl: OWL: Optimized Workforce Learning for General ...', 'description': '🦉 OWL is a cutting-edge framework for multi-agent collaboration that pushes the boundaries of task automation, built on top of the CAMEL-AI Framework. OWL achieves 58.18 average score on GAIA benchmark and ranks #1 among open-source frameworks. Our vision is to revolutionize how AI agents collaborate to solve real-world tasks.', 'url': 'https://github.com/camel-ai/owl'}, {'result_id': 4, 'title': 'camel-ai.org · GitHub', 'description': 'CAMEL-AI.org is a research-driven organization that explores scalable techniques for autonomous cooperation among communicative agents based on large language models. It offers a generic infrastructure for creating customizable agents, building multi-agent systems, and enabling practical applications.', 'url': 'https://github.com/camel-ai/'}, {'result_id': 5, 'title': 'Get started with Model Calling - CAMEL 101 - camel-ai.org', 'description': 'TLDR: CAMEL enables flexible integration of various AI models, acting as the brain of intelligent agents. It offers standardized interfaces and seamless component connections, allowing developers to easily incorporate and switch between different Large Language Models (LLMs) for tasks like text analysis, image recognition, and complex reasoning.', 'url': 'https://www.camel-ai.org/post/get-started-with-models---camel-101'}]\",\n",
       "   'tool_call_id': 'call_0_871d4f2d-2e51-4848-bee1-f45531ba8041'},\n",
       "  {'role': 'assistant',\n",
       "   'content': ' CAMEL AI is a research-driven organization focused on exploring scalable techniques for autonomous cooperation among communicative agents based on large language models. It provides a generic infrastructure for creating customizable agents, building multi-agent systems, and enabling practical applications. CAMEL AI aims to find the scaling laws of agents and offers tools and frameworks for multi-agent collaboration, such as the CAMEL and OWL frameworks. These frameworks are designed to push the boundaries of task automation and revolutionize how AI agents collaborate to solve real-world tasks.\\n\\nFor more detailed information, you can visit their official website [here](https://www.camel-ai.org/) or check out their GitHub repositories [here](https://github.com/camel-ai/).'},\n",
       "  {'role': 'assistant',\n",
       "   'content': 'This is a new user message would add to agent memory'}],\n",
       " 781)"
      ]
     },
     "execution_count": 37,
     "metadata": {},
     "output_type": "execute_result"
    }
   ],
   "source": [
    "agent.memory.get_context()"
   ]
  },
  {
   "cell_type": "code",
   "execution_count": 38,
   "metadata": {},
   "outputs": [],
   "source": [
    "agent.reset()"
   ]
  },
  {
   "cell_type": "code",
   "execution_count": 40,
   "metadata": {},
   "outputs": [
    {
     "data": {
      "text/plain": [
       "([{'role': 'system',\n",
       "   'content': 'You are a curious stone wondering about the universe.'}],\n",
       " 17)"
      ]
     },
     "execution_count": 40,
     "metadata": {},
     "output_type": "execute_result"
    }
   ],
   "source": [
    "agent.memory.get_context() "
   ]
  },
  {
   "cell_type": "code",
   "execution_count": null,
   "metadata": {},
   "outputs": [],
   "source": []
  }
 ],
 "metadata": {
  "kernelspec": {
   "display_name": "base",
   "language": "python",
   "name": "python3"
  },
  "language_info": {
   "codemirror_mode": {
    "name": "ipython",
    "version": 3
   },
   "file_extension": ".py",
   "mimetype": "text/x-python",
   "name": "python",
   "nbconvert_exporter": "python",
   "pygments_lexer": "ipython3",
   "version": "3.11.9"
  }
 },
 "nbformat": 4,
 "nbformat_minor": 2
}
