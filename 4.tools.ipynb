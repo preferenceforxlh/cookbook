{
 "cells": [
  {
   "cell_type": "code",
   "execution_count": 1,
   "metadata": {},
   "outputs": [],
   "source": [
    "import os\n",
    "os.environ[\"http_proxy\"] = \"http://127.0.0.1:7890\"\n",
    "os.environ[\"https_proxy\"] = \"http://127.0.0.1:7890\""
   ]
  },
  {
   "cell_type": "code",
   "execution_count": 13,
   "metadata": {},
   "outputs": [],
   "source": [
    "from camel.agents import ChatAgent\n",
    "from camel.configs import DeepSeekConfig, ZhipuAIConfig\n",
    "from camel.models import ModelFactory\n",
    "from camel.types import ModelPlatformType, ModelType\n",
    "from camel.toolkits import (\n",
    "    SearchToolkit\n",
    ")\n",
    "from camel.messages import BaseMessage"
   ]
  },
  {
   "cell_type": "code",
   "execution_count": 3,
   "metadata": {},
   "outputs": [],
   "source": [
    "def add(a: int, b: int) -> int:\n",
    "    r\"\"\"Adds two numbers.\n",
    "\n",
    "    Args:\n",
    "        a (int): The first number to be added.\n",
    "        b (int): The second number to be added.\n",
    "\n",
    "    Returns:\n",
    "        integer: The sum of the two numbers.\n",
    "    \"\"\"\n",
    "    return a + b\n",
    "\n",
    "def sub(a: int, b: int) -> int:\n",
    "    r\"\"\"Do subtraction between two numbers.\n",
    "\n",
    "    Args:\n",
    "        a (int): The minuend in subtraction.\n",
    "        b (int): The subtrahend in subtraction.\n",
    "\n",
    "    Returns:\n",
    "        integer: The result of subtracting :obj:`b` from :obj:`a`.\n",
    "    \"\"\"\n",
    "    return a - b"
   ]
  },
  {
   "cell_type": "markdown",
   "metadata": {},
   "source": [
    "Add these 2 customized functions as CAMEL’s FunctionTool list:"
   ]
  },
  {
   "cell_type": "code",
   "execution_count": 4,
   "metadata": {},
   "outputs": [],
   "source": [
    "from camel.toolkits import FunctionTool\n",
    "\n",
    "MATH_FUNCS: list[FunctionTool] = [\n",
    "    FunctionTool(func) for func in [add,sub]\n",
    "]"
   ]
  },
  {
   "cell_type": "markdown",
   "metadata": {},
   "source": [
    "Then you can add the tool from CAMEL and the one defined by yourself to the tool list:"
   ]
  },
  {
   "cell_type": "code",
   "execution_count": 7,
   "metadata": {},
   "outputs": [],
   "source": [
    "tool_lists = [\n",
    "    FunctionTool(SearchToolkit().search_duckduckgo),\n",
    "    *MATH_FUNCS\n",
    "]"
   ]
  },
  {
   "cell_type": "markdown",
   "metadata": {},
   "source": [
    "Next let’s set the parameters to the agent and initianize ChatAgent to call the tool:"
   ]
  },
  {
   "cell_type": "code",
   "execution_count": 31,
   "metadata": {},
   "outputs": [],
   "source": [
    "model = ModelFactory.create(\n",
    "    model_platform=ModelPlatformType.ZHIPU,\n",
    "    model_type=ModelType.GLM_4_FLASH,\n",
    "    model_config_dict=ZhipuAIConfig().as_dict(),\n",
    "    api_key=\"6e943baaede04a749bbe3744c890a338.LAwE3d88i1vmcrdh\"\n",
    ")\n",
    "\n",
    "# Set message for the assistant\n",
    "assistant_sys_msg =  \"\"\"You are a helpful assistant to do search task.\"\"\"\n",
    "\n",
    "# set the agent\n",
    "agent = ChatAgent(\n",
    "    assistant_sys_msg,\n",
    "    model=model,\n",
    "    tools=tool_lists\n",
    ")"
   ]
  },
  {
   "cell_type": "markdown",
   "metadata": {},
   "source": [
    "Here we define two test prompts for the agent, asking about the facts about University of Oxford. Here the agent needs to take advantage of the searching capability to know when University of Oxford is founded and the calculating skills to obtain the estimated age of the Uni."
   ]
  },
  {
   "cell_type": "code",
   "execution_count": 26,
   "metadata": {},
   "outputs": [],
   "source": [
    "# Set prompt for the search task\n",
    "prompt_search = (\"\"\"When was University of Oxford set up\"\"\")\n",
    "# Set prompt for the calculation task\n",
    "prompt_calculate = (\"\"\"Assume now is 2024 in the Gregorian calendar, University of Oxford was set up in 1096, estimate the current age of University of Oxford\"\"\")\n",
    "\n",
    "# Convert the two prompt as message that can be accepted by the Agent\n",
    "user_msg_search = BaseMessage.make_user_message(role_name=\"User\", content=prompt_search)\n",
    "user_msg_calculate = BaseMessage.make_user_message(role_name=\"User\", content=prompt_calculate)"
   ]
  },
  {
   "cell_type": "code",
   "execution_count": 27,
   "metadata": {},
   "outputs": [],
   "source": [
    "# Get response\n",
    "assistant_response_calculate = agent.step(user_msg_calculate)"
   ]
  },
  {
   "cell_type": "code",
   "execution_count": 28,
   "metadata": {},
   "outputs": [
    {
     "data": {
      "text/plain": [
       "ChatAgentResponse(msgs=[BaseMessage(role_name='Assistant', role_type=<RoleType.ASSISTANT: 'assistant'>, meta_dict={}, content='To estimate the current age of the University of Oxford, we can simply subtract the year it was founded from the current year.\\n\\n2024 (current year) - 1096 (year founded) = 928 years\\n\\nSo, as of 2024, the University of Oxford would be approximately 928 years old.', video_bytes=None, image_list=None, image_detail='auto', video_detail='low', parsed=None)], terminated=False, info={'id': '20250309114127ad58e82c51eb4c3c', 'usage': {'completion_tokens': 68, 'prompt_tokens': 49, 'total_tokens': 117, 'completion_tokens_details': None, 'prompt_tokens_details': None}, 'termination_reasons': ['stop'], 'num_tokens': 55, 'tool_calls': [], 'external_tool_call_request': None})"
      ]
     },
     "execution_count": 28,
     "metadata": {},
     "output_type": "execute_result"
    }
   ],
   "source": [
    "assistant_response_calculate"
   ]
  },
  {
   "cell_type": "code",
   "execution_count": 29,
   "metadata": {},
   "outputs": [],
   "source": [
    "assistant_response_search = agent.step(user_msg_search)"
   ]
  },
  {
   "cell_type": "code",
   "execution_count": 30,
   "metadata": {},
   "outputs": [
    {
     "data": {
      "text/plain": [
       "ChatAgentResponse(msgs=[BaseMessage(role_name='Assistant', role_type=<RoleType.ASSISTANT: 'assistant'>, meta_dict={}, content='The University of Oxford was set up in the year 1096. It is one of the oldest universities in the world and is often considered the oldest in the English-speaking world.', video_bytes=None, image_list=None, image_detail='auto', video_detail='low', parsed=None)], terminated=False, info={'id': '202503091141417e1f4a58428b4e12', 'usage': {'completion_tokens': 38, 'prompt_tokens': 126, 'total_tokens': 164, 'completion_tokens_details': None, 'prompt_tokens_details': None}, 'termination_reasons': ['stop'], 'num_tokens': 140, 'tool_calls': [], 'external_tool_call_request': None})"
      ]
     },
     "execution_count": 30,
     "metadata": {},
     "output_type": "execute_result"
    }
   ],
   "source": [
    "assistant_response_search"
   ]
  }
 ],
 "metadata": {
  "kernelspec": {
   "display_name": "base",
   "language": "python",
   "name": "python3"
  },
  "language_info": {
   "codemirror_mode": {
    "name": "ipython",
    "version": 3
   },
   "file_extension": ".py",
   "mimetype": "text/x-python",
   "name": "python",
   "nbconvert_exporter": "python",
   "pygments_lexer": "ipython3",
   "version": "3.11.9"
  }
 },
 "nbformat": 4,
 "nbformat_minor": 2
}
